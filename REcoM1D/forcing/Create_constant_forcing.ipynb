{
 "cells": [
  {
   "cell_type": "code",
   "execution_count": 1,
   "id": "consistent-valentine",
   "metadata": {},
   "outputs": [],
   "source": [
    "from glob import glob as gg\n",
    "import numpy as np\n",
    "from matplotlib import pyplot as plt\n",
    "from matplotlib import cm as cm\n",
    "from matplotlib import rc as rc\n",
    "#\n",
    "from netCDF4 import Dataset  "
   ]
  },
  {
   "cell_type": "code",
   "execution_count": 2,
   "id": "documented-watson",
   "metadata": {},
   "outputs": [],
   "source": [
    "#\n",
    "# mesh information\n",
    "#\n",
    "class mesh_data:\n",
    "    def __init__(self, filename):\n",
    "        self.read_vertical_mesh(filename)\n",
    "        \n",
    "    def read_vertical_mesh(self,filename):\n",
    "        ncid = Dataset(filename, \"r\", format=\"NETCDF4\")        \n",
    "        \n",
    "        # read dates \n",
    "        self.dates = ncid.variables['dates'][:]\n",
    "        # read vertical mesh\n",
    "        self.nlevels, self.zbar = ncid.variables['nlevels'][:], ncid.variables['zbar'][:]\n",
    "        \n",
    "        ncid.close()"
   ]
  },
  {
   "cell_type": "code",
   "execution_count": 3,
   "id": "owned-warning",
   "metadata": {},
   "outputs": [],
   "source": [
    "#\n",
    "# read mesh information\n",
    "#\n",
    "path_mesh = '/home/fbirrien/NuArctic/nuarctic/REcoM1D/grid/'\n",
    "filename = path_mesh + 'REcoM1D_mesh.nc'\n",
    "mesh = mesh_data(filename)"
   ]
  },
  {
   "cell_type": "code",
   "execution_count": 4,
   "id": "copyrighted-custom",
   "metadata": {},
   "outputs": [],
   "source": [
    "#\n",
    "# initial constant conditions\n",
    "#\n",
    "PAR_init = 50         # in W/m2\n",
    "Kz_init = 0.01        # in m2/s\n",
    "T_init = 1            # in degree Celsius\n",
    "S_init = 34           # in ppt\n",
    "aice_init = 90        # in %\n",
    "uatm_init = 10        # in m/s\n",
    "vatm_init = 10        # in m/s\n",
    "press_init = 990*100  # in Pa\n",
    "SW_init = 50   # in W/m2"
   ]
  },
  {
   "cell_type": "code",
   "execution_count": 18,
   "id": "oriented-administrator",
   "metadata": {},
   "outputs": [
    {
     "name": "stdout",
     "output_type": "stream",
     "text": [
      "48 7201\n"
     ]
    }
   ],
   "source": [
    "#\n",
    "# initialize arrays\n",
    "#\n",
    "nlvl, nt = len(mesh.zbar), len(mesh.nlevels)\n",
    "# ice cover\n",
    "aice = np.zeros(nt) + aice_init/100\n",
    "# temperature, salinity, light and turbulence\n",
    "init = np.zeros((nlvl-1, nt)) * np.nan\n",
    "T, S, Kz = np.copy(init), np.copy(init), np.copy(init)\n",
    "PAR = np.copy(init2D)\n",
    "shortwave = np.zeros(nt)+SW_init\n",
    "# atm forcing\n",
    "uatm, vatm, sea_level_pressure = np.zeros(nt)+uatm_init, np.zeros(nt)+vatm_init, np.zeros(nt)+press_init\n",
    "\n",
    "for i in range(nt):\n",
    "    ind=int(mesh.nlevels[i])\n",
    "    T[:ind,i], S[:ind,i], Kz[:ind,i] = T_init, S_init, Kz_init \n",
    "    PAR[:ind,i], shortwave[i] = PAR_init, SW_init"
   ]
  },
  {
   "cell_type": "code",
   "execution_count": 20,
   "id": "charitable-clearing",
   "metadata": {},
   "outputs": [
    {
     "name": "stdout",
     "output_type": "stream",
     "text": [
      "('level', 'time') 46 7201 (47, 7201) (47, 7201)\n"
     ]
    },
    {
     "data": {
      "text/plain": [
       "<__main__.Output at 0x7f55a5e707c0>"
      ]
     },
     "execution_count": 20,
     "metadata": {},
     "output_type": "execute_result"
    }
   ],
   "source": [
    "#\n",
    "# save forcing to netcdf\n",
    "#\n",
    "class Output(object):\n",
    "    def __init__(self, filename, dates, aice, T, S, Kz, PAR, shortwave, uatm, vatm, sea_level_pressure):\n",
    "        self.write_recom_constant_forcing(filename, dates, aice, T, S, Kz, PAR, shortwave, uatm, vatm, sea_level_pressure)\n",
    "        \n",
    "    def write_recom_constant_forcing(self, filename, dates, aice, T, S, Kz, PAR, shortwave, uatm, vatm, sea_level_pressure):\n",
    "        \n",
    "        nt, nl = len(dates), PAR.shape[0]\n",
    "        \n",
    "        # store grid (Lagrangian and vertical) information\n",
    "        ncid = Dataset(filename, \"w\", format=\"NETCDF4\") \n",
    "\n",
    "        ## define dimensionss\n",
    "        ncid.createDimension('time', nt)       \n",
    "        ncid.createDimension('level', nl)\n",
    "        dim = ('level', 'time')\n",
    "\n",
    "        ## create variables\n",
    "        # dates\n",
    "        dt = ncid.createVariable('dates', \"f8\",'time')\n",
    "        \n",
    "        # ice cover\n",
    "        ice = ncid.createVariable('aice', \"f8\",'time')\n",
    "                             \n",
    "        # temperature and salinity\n",
    "        t, s  = ncid.createVariable('temperature', \"f8\", dim), ncid.createVariable('salinity', \"f8\",dim)\n",
    "        \n",
    "        # atm forcing\n",
    "        U, V = ncid.createVariable('uatm', \"f8\", 'time'), ncid.createVariable('vatm', \"f8\",'time')\n",
    "        P = ncid.createVariable('sea_level_pressure', \"f8\", 'time')\n",
    "        \n",
    "        # vertical mesh\n",
    "        par, kz  = ncid.createVariable('PAR', \"f8\",dim), ncid.createVariable('Kz', \"f8\",dim)\n",
    "        sw = ncid.createVariable('surface_shortwave_radiation', \"f8\",'time')\n",
    "                \n",
    "        ## variables attributes\n",
    "        # description\n",
    "        dt.description='dates related to python ordinal dates (reference date 01/01/0001)'\n",
    "        ice.description = 'surface of ocean covered by ice'\n",
    "        t.description, s.description = 'temperature distribution in the water column',  'salinity distribution the water column'\n",
    "        par.description, kz.description = 'Photosynthetically Active Radiation in the water column', 'turbulence in the water column'\n",
    "        sw.description = 'surface shortwave radiation'\n",
    "        U.description, V.description = 'x-component of wind', 'y-component of wind'\n",
    "        P.description = 'mean sea level pressure'\n",
    "        \n",
    "        # units\n",
    "        dt.units='days'\n",
    "        ice.units, t.units, s.units = '', 'degree (Celsius)', 'ppt'\n",
    "        par.units, sw.units, kz.units = 'W/m2', 'W/m2', 'm2/s'\n",
    "        U.units, V.units, P.units = 'm/s', 'm/s', 'Pa'\n",
    "        \n",
    "        ## fill variables\n",
    "        # dates\n",
    "        ncid['dates'][:] = dates\n",
    "        \n",
    "        # ice\n",
    "        ncid['aice'][:] = aice\n",
    "        \n",
    "        # temperature and salinity\n",
    "        ncid['temperature'][:] , ncid['salinity'][:] = T, S\n",
    "        \n",
    "        # atm forcing\n",
    "        ncid['uatm'][:], ncid['vatm'][:], ncid['sea_level_pressure'][:] = uatm, vatm, sea_level_pressure\n",
    "\n",
    "        \n",
    "        # radiation and turbulence\n",
    "        ncid['PAR'][:], ncid['Kz'][:] = PAR, Kz\n",
    "        ncid['surface_shortwave_radiation'][:] = shortwave\n",
    "                             \n",
    "        #\n",
    "        ncid.close()\n",
    "#\n",
    "#\n",
    "#\n",
    "path_forcing = '/home/fbirrien/NuArctic/nuarctic/REcoM1D/forcing/'\n",
    "filename = path_forcing + 'REcoM1D_forcing.nc'\n",
    "Output(filename, mesh.dates, aice, T, S, Kz, PAR, shortwave, uatm, vatm, sea_level_pressure)"
   ]
  },
  {
   "cell_type": "code",
   "execution_count": null,
   "id": "racial-account",
   "metadata": {},
   "outputs": [],
   "source": []
  }
 ],
 "metadata": {
  "kernelspec": {
   "display_name": "Python 3 (ipykernel)",
   "language": "python",
   "name": "python3"
  },
  "language_info": {
   "codemirror_mode": {
    "name": "ipython",
    "version": 3
   },
   "file_extension": ".py",
   "mimetype": "text/x-python",
   "name": "python",
   "nbconvert_exporter": "python",
   "pygments_lexer": "ipython3",
   "version": "3.9.7"
  }
 },
 "nbformat": 4,
 "nbformat_minor": 5
}
