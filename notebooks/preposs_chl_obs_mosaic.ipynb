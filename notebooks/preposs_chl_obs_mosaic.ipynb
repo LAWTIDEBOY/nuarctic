{
 "cells": [
  {
   "cell_type": "code",
   "execution_count": null,
   "id": "1b5e3620-a918-4fac-9a41-1ee76e01763a",
   "metadata": {
    "tags": []
   },
   "outputs": [],
   "source": [
    "#!/usr/bin/env python3\n",
    "import os, sys\n",
    "import wget\n",
    "import numpy as np\n",
    "import numpy.ma as ma\n",
    "import netCDF4 as nc\n",
    "import xarray as xr\n",
    "import matplotlib.pyplot as plt\n",
    "\n",
    "from datetime import datetime, date\n",
    "from collections import Counter\n",
    "import math\n",
    "#from scipy import interpolate\n",
    "# import seawater as sw\n",
    "# from scipy.interpolate import interp1d"
   ]
  },
  {
   "cell_type": "code",
   "execution_count": null,
   "id": "f183fb60-003b-4115-b69f-d84f9aa599e9",
   "metadata": {
    "tags": []
   },
   "outputs": [],
   "source": [
    "def str2num_noneg(str_in):    \n",
    "    try:\n",
    "        # Convert the input string to a float\n",
    "        num = float(str_in)\n",
    "\n",
    "        # Check if the number is nonnegative\n",
    "        if num >= 0:\n",
    "            return num\n",
    "        else:\n",
    "            return float('nan')\n",
    "    except ValueError:\n",
    "        # Return NaN if the input contains non-numeric characters\n",
    "        return float('nan')"
   ]
  },
  {
   "cell_type": "code",
   "execution_count": null,
   "id": "df6f0527-401e-41d2-aeca-554a0874ccd4",
   "metadata": {
    "tags": []
   },
   "outputs": [],
   "source": [
    "def date_to_days(date_str, reference_date_str=\"01.01.19\"):\n",
    "    # Define the format for the input date string\n",
    "    date_format = \"%d.%m.%y\"\n",
    "\n",
    "    try:\n",
    "        # Parse the input date string and the reference date string to datetime objects\n",
    "        date_obj = datetime.strptime(date_str, date_format)\n",
    "        reference_date_obj = datetime.strptime(reference_date_str, date_format)\n",
    "\n",
    "        # Calculate the difference in days between the two dates\n",
    "        days_difference = (date_obj - reference_date_obj).days\n",
    "\n",
    "        return days_difference\n",
    "    except ValueError:\n",
    "        # Return None if there's an error parsing the date strings\n",
    "        return None"
   ]
  },
  {
   "cell_type": "code",
   "execution_count": null,
   "id": "447f6401-6cdd-45e6-bd52-8523f29b0b48",
   "metadata": {},
   "outputs": [],
   "source": [
    "date_to_days(\"26.09.20\")"
   ]
  },
  {
   "cell_type": "code",
   "execution_count": null,
   "id": "ff8bb80c-5106-44d5-bbe9-4a7e10f7e1e7",
   "metadata": {
    "tags": []
   },
   "outputs": [],
   "source": [
    "def mean_of_unique_dates(dates_list, data_array):\n",
    "    # Create a Counter object to count the occurrences of each date\n",
    "    date_counts = Counter(dates_list)    \n",
    "    unique_dates, unique_indices = np.unique(dates_list, return_index=True)    \n",
    "    mean_values = []\n",
    "    \n",
    "    for date, idx in zip(unique_dates, unique_indices):\n",
    "        count = date_counts[date]\n",
    "        data_slice = data_array[dates_list.index(date, idx, len(dates_list))]\n",
    "        mean = np.mean(data_slice) if count == 1 else np.mean(data_slice) * count\n",
    "        mean_values.append(mean)\n",
    "\n",
    "    return unique_dates, np.array(mean_values)"
   ]
  },
  {
   "cell_type": "code",
   "execution_count": null,
   "id": "a8382e35-eb6a-4b0e-a7df-c4597351e274",
   "metadata": {
    "tags": []
   },
   "outputs": [],
   "source": []
  },
  {
   "cell_type": "code",
   "execution_count": null,
   "id": "6fe6190e-8faf-49ae-bc23-133f7178abad",
   "metadata": {
    "tags": []
   },
   "outputs": [],
   "source": [
    "REcoM1D_mesh = xr.open_dataset(\"../data/MESH/REcoM1D_mesh.nc\")"
   ]
  },
  {
   "cell_type": "code",
   "execution_count": null,
   "id": "0d792412-2d8e-4312-a779-c87aff38aae2",
   "metadata": {
    "tags": []
   },
   "outputs": [],
   "source": [
    "mod_depths = REcoM1D_mesh.Z.values\n",
    "mod_depths_bound = REcoM1D_mesh.zbar.values\n",
    "mod_depths_bound"
   ]
  },
  {
   "cell_type": "code",
   "execution_count": null,
   "id": "f435d678-c841-4b11-8013-a45be9c7dedd",
   "metadata": {},
   "outputs": [],
   "source": []
  },
  {
   "cell_type": "code",
   "execution_count": null,
   "id": "b834e96b-8386-463f-9d3a-847cc75b403b",
   "metadata": {
    "tags": []
   },
   "outputs": [],
   "source": [
    "chl_file = '../data/CHLA/MOSAiC_Chla_forLaurent_20220905.xlsx'"
   ]
  },
  {
   "cell_type": "code",
   "execution_count": null,
   "id": "a6e61421-a0c7-4059-98ba-e3193d6f542f",
   "metadata": {
    "tags": []
   },
   "outputs": [],
   "source": [
    "from pandas import read_excel\n",
    "chl_df = read_excel(chl_file, sheet_name = 'CTDs')\n",
    "print(chl_df.head())"
   ]
  },
  {
   "cell_type": "code",
   "execution_count": null,
   "id": "0fe0f7be-95b8-4b3c-a085-5e67a872c460",
   "metadata": {
    "tags": []
   },
   "outputs": [],
   "source": [
    "chl_date = chl_df['Date']\n",
    "chl_depth = chl_df['desired_depth']\n",
    "chla_data = chl_df['Chl[µg L-1]']"
   ]
  },
  {
   "cell_type": "code",
   "execution_count": null,
   "id": "e21ccd21-2c54-4acb-9973-5fa9fae0b9e9",
   "metadata": {
    "tags": []
   },
   "outputs": [],
   "source": [
    "def date_to_step(date, reference_date=np.datetime64('2019-04-15')):\n",
    "    # Convert the date and reference_date to numpy datetime64 objects if they are not already\n",
    "    date = np.datetime64(date)\n",
    "    reference_date = np.datetime64(reference_date)\n",
    "\n",
    "    # Calculate the difference in days between the date and the reference_date\n",
    "    days_difference = (date - reference_date).astype('timedelta64[D]').item().days\n",
    "    time_step = days_difference * 48 + 24\n",
    "\n",
    "    return time_step"
   ]
  },
  {
   "cell_type": "code",
   "execution_count": null,
   "id": "688fd563-1120-479f-8889-1338e3b22905",
   "metadata": {},
   "outputs": [],
   "source": []
  },
  {
   "cell_type": "code",
   "execution_count": null,
   "id": "ee0bf566-40ac-4c21-b51e-6eedfbd391d3",
   "metadata": {},
   "outputs": [],
   "source": [
    "unique_date_ch = np.unique(chl_date)\n",
    "unique_date_ch.shape"
   ]
  },
  {
   "cell_type": "code",
   "execution_count": null,
   "id": "628b1836-2798-4cf0-b595-6c5d5eef65b1",
   "metadata": {},
   "outputs": [],
   "source": [
    "for i in range(len(unique_date_ch)):\n",
    "    print(unique_date_ch[i])"
   ]
  },
  {
   "cell_type": "code",
   "execution_count": null,
   "id": "4cba34ff-c69a-4591-8912-5942ad3ff4e6",
   "metadata": {
    "tags": []
   },
   "outputs": [],
   "source": [
    "chl_steps = np.zeros_like(chla_data)\n",
    "for i in range(len(chl_date)):\n",
    "    chl_steps[i] = date_to_step(chl_date[i])"
   ]
  },
  {
   "cell_type": "code",
   "execution_count": null,
   "id": "af123498-0358-45e8-bacb-4ed60d5d8dd2",
   "metadata": {
    "tags": []
   },
   "outputs": [],
   "source": [
    "plt.rcParams[\"figure.figsize\"] = (10,5) \n",
    "plt.scatter(chl_steps, -chl_depth,s=80, c=chla_data, marker='o', edgecolor='none')\n",
    "\n",
    "plt.ylim((-500, 10))\n",
    "plt.clim(0, 1)\n",
    "cbar = plt.colorbar(orientation='horizontal', pad=0.1)\n",
    "cbar.ax.set_xlabel(r'$µg L^{-1}$')\n",
    "plt.title('MOSAiC_Chla_forLaurent_20220905')\n",
    "plt.ylabel('Depth (m)')\n",
    "plt.show()"
   ]
  },
  {
   "cell_type": "code",
   "execution_count": null,
   "id": "06011366-6473-431f-8ca6-08e2932c92fc",
   "metadata": {},
   "outputs": [],
   "source": [
    "plt.rcParams[\"figure.figsize\"] = (10,5) \n",
    "plt.scatter(chl_steps, -chl_depth,s=80, c=np.log10(chla_data), marker='o', edgecolor='none')\n",
    "\n",
    "plt.ylim((-100, 0))\n",
    "plt.clim(-2.5, 0.5)\n",
    "cbar = plt.colorbar(orientation='horizontal', pad=0.1)\n",
    "cbar.ax.set_xlabel(r'$µg L^{-1}$')\n",
    "plt.title('MOSAiC_Chla_forLaurent_20220905')\n",
    "plt.ylabel('Depth (m)')\n",
    "plt.show()"
   ]
  },
  {
   "cell_type": "code",
   "execution_count": null,
   "id": "b4d67cf3-11b5-4da2-9407-6535eaafc7d5",
   "metadata": {
    "tags": []
   },
   "outputs": [],
   "source": [
    "chla_rmsd = chla_data* 0.3\n",
    "# chla_rmsd"
   ]
  },
  {
   "cell_type": "code",
   "execution_count": null,
   "id": "82a71854-4309-4529-9dff-e9cc0f32883c",
   "metadata": {},
   "outputs": [],
   "source": [
    "chla_data_logtrans = np.zeros_like(chla_data)\n",
    "chla_rmsd_logtrans = np.zeros_like(chla_data)\n",
    "for i in range(len(chla_data)):\n",
    "    if chla_data[i]==0:\n",
    "        chla_val = 1.0e-10\n",
    "        chla_err = 1.0e-10 * 0.3 \n",
    "        chla_data_logtrans[i] = math.log(chla_val) - 0.5 * math.log(1 + (chla_err**2 / chla_val**2))\n",
    "        chla_rmsd_logtrans[i] = math.sqrt(math.log(1 + (chla_err**2 / chla_val**2)))\n",
    "    else:\n",
    "        chla_val = chla_data[i]\n",
    "        chla_err = chla_data[i] * 0.3 \n",
    "        chla_data_logtrans[i] = math.log(chla_val) - 0.5 * math.log(1 + (chla_err**2 / chla_val**2))\n",
    "        chla_rmsd_logtrans[i] = math.sqrt(math.log(1 + (chla_err**2 / chla_val**2)))"
   ]
  },
  {
   "cell_type": "code",
   "execution_count": null,
   "id": "63a063fa-80dd-4613-a5b0-205d058ffd5e",
   "metadata": {
    "tags": []
   },
   "outputs": [],
   "source": [
    "plt.rcParams[\"figure.figsize\"] = (10,5) \n",
    "plt.scatter(chl_steps, -chl_depth,s=80, c=chla_data_logtrans, marker='o', edgecolor='none')\n",
    "\n",
    "plt.ylim((-500, 10))\n",
    "plt.clim(-5, 0)\n",
    "cbar = plt.colorbar(orientation='horizontal', pad=0.1)\n",
    "cbar.ax.set_xlabel(r'$µg L^{-1}$')\n",
    "plt.title('MOSAiC_Chla_forLaurent_20220905: Logtransformed value')\n",
    "plt.ylabel('Depth (m)')\n",
    "plt.show()"
   ]
  },
  {
   "cell_type": "code",
   "execution_count": null,
   "id": "87ec5c5a-09d1-47cc-b440-e40ec1c9fc1a",
   "metadata": {
    "tags": []
   },
   "outputs": [],
   "source": [
    "plt.rcParams[\"figure.figsize\"] = (10,5) \n",
    "plt.scatter(chl_steps, -chl_depth,s=80, c=chla_rmsd_logtrans, marker='o', edgecolor='none')\n",
    "\n",
    "plt.ylim((-500, 10))\n",
    "plt.clim(0.25, 0.3)\n",
    "cbar = plt.colorbar(orientation='horizontal', pad=0.1)\n",
    "cbar.ax.set_xlabel(r'$µg L^{-1}$')\n",
    "plt.title('MOSAiC_Chla_forLaurent_20220905: Logtransformed value')\n",
    "plt.ylabel('Depth (m)')\n",
    "plt.show()"
   ]
  },
  {
   "cell_type": "code",
   "execution_count": null,
   "id": "f0ab56fa-8b75-474b-a8d9-2ffe3572bb1c",
   "metadata": {
    "tags": []
   },
   "outputs": [],
   "source": [
    "unique_chl_steps = []\n",
    "unique_indices_dict = {}\n",
    "for index, item in enumerate(chl_steps):\n",
    "    if item not in unique_indices_dict:\n",
    "        unique_chl_steps.append(item)\n",
    "        unique_indices_dict[item] = [index]\n",
    "    else:\n",
    "        unique_indices_dict[item].append(index)\n",
    "\n",
    "unique_chl_steps = np.array(unique_chl_steps)\n",
    "\n",
    "print(unique_chl_steps)"
   ]
  },
  {
   "cell_type": "code",
   "execution_count": null,
   "id": "0cbc5838-b474-4a4c-8965-08d4497771d0",
   "metadata": {
    "tags": []
   },
   "outputs": [],
   "source": [
    "unique_indices_dict[unique_chl_steps[2]]"
   ]
  },
  {
   "cell_type": "code",
   "execution_count": null,
   "id": "127e6b0c-5734-4887-9877-dceb87ff9f59",
   "metadata": {},
   "outputs": [],
   "source": [
    "chl_data_2d = np.zeros((len(unique_chl_steps),20))\n",
    "chl_data_2d = chl_data_2d - 99.99\n",
    "depth_bin = mod_depths_bound * -1"
   ]
  },
  {
   "cell_type": "code",
   "execution_count": null,
   "id": "9fb9c719-3d82-49d6-bd73-b8b041597381",
   "metadata": {},
   "outputs": [],
   "source": [
    "for row in range(len(unique_chl_steps)):\n",
    "    \n",
    "    depths = np.array(chl_depth[unique_indices_dict[unique_chl_steps[row]]])    \n",
    "    data = np.array(chla_data[unique_indices_dict[unique_chl_steps[row]]])\n",
    "    \n",
    "    \n",
    "    for col in range(20):\n",
    "        depth_range_min = depth_bin[col]\n",
    "        depth_range_max = depth_bin[col + 1]\n",
    "        data_in_range = [data[i] for i in range(len(depths)) if depth_range_min <= depths[i] < depth_range_max]\n",
    "        \n",
    "        if data_in_range:\n",
    "            chl_data_2d[row,col] = np.mean(data_in_range)"
   ]
  },
  {
   "cell_type": "code",
   "execution_count": null,
   "id": "12f2b510-7ccc-4b87-a927-16f626a4b670",
   "metadata": {
    "tags": []
   },
   "outputs": [],
   "source": [
    "obs_steps = unique_chl_steps + 24\n",
    "obs_steps = obs_steps.astype(int)\n",
    "obs_steps"
   ]
  },
  {
   "cell_type": "code",
   "execution_count": null,
   "id": "7d7bf0a6-4a68-4340-a119-f9b9c03dce56",
   "metadata": {},
   "outputs": [],
   "source": [
    "sorted_indices = np.argsort(obs_steps)\n",
    "sorted_indices"
   ]
  },
  {
   "cell_type": "code",
   "execution_count": null,
   "id": "c3dfe55f-fb17-4e7b-8268-51caaff4b164",
   "metadata": {},
   "outputs": [],
   "source": [
    "sorted_obs_steps = obs_steps[sorted_indices]"
   ]
  },
  {
   "cell_type": "code",
   "execution_count": null,
   "id": "323620a6-7139-4987-a604-ae930a1b7e6e",
   "metadata": {},
   "outputs": [],
   "source": [
    "print(sorted_obs_steps[1:] - sorted_obs_steps[:-1])"
   ]
  },
  {
   "cell_type": "code",
   "execution_count": null,
   "id": "46e8319b-4b2f-4f79-9f09-777e11d7f29c",
   "metadata": {},
   "outputs": [],
   "source": [
    "sorted_chl_data_2d = chl_data_2d[sorted_indices]\n",
    "print(sorted_chl_data_2d.shape)"
   ]
  },
  {
   "cell_type": "code",
   "execution_count": null,
   "id": "dc64b260-f90e-4b14-bc97-63cf9293cb54",
   "metadata": {
    "tags": []
   },
   "outputs": [],
   "source": [
    "chl_data_2d = chl_data_2d.astype(np.float64)\n",
    "#chl_data_2d"
   ]
  },
  {
   "cell_type": "code",
   "execution_count": null,
   "id": "60c598ee-ded5-475b-bee8-362d1ffe817a",
   "metadata": {
    "tags": []
   },
   "outputs": [],
   "source": [
    "chl_da = xr.DataArray(sorted_chl_data_2d, dims=(\"step\", \"depth\"), coords={\"step\": sorted_obs_steps, \"depth\": mod_depths[ :20].astype(np.float64)})\n",
    "\n",
    "# Add units for variables\n",
    "chl_da.attrs[\"units\"] = \"µg L^-1\"\n",
    "\n",
    "# Create a Dataset and add the DataArray to it\n",
    "dataset = xr.Dataset({\"Chl_a\": chl_da})\n",
    "dataset"
   ]
  },
  {
   "cell_type": "code",
   "execution_count": null,
   "id": "931e896a-04f0-47b5-ab7f-dc77e0680a89",
   "metadata": {
    "tags": []
   },
   "outputs": [],
   "source": [
    "dataset.attrs[\"description\"] = \"MOSAiC_Chla_forLaurent_20220905 with dimensions step and depth\"\n",
    "dataset.attrs[\"history\"] = \"MOSAiC_Chla_forLaurent_20220905\"\n",
    "dataset"
   ]
  },
  {
   "cell_type": "code",
   "execution_count": null,
   "id": "fb67dbd9-56a4-4aa7-bcba-b4098f3ffb7b",
   "metadata": {
    "tags": []
   },
   "outputs": [],
   "source": [
    "output_file = \"../data/MOSAiC_Chla_forLaurent_20220905.nc\"\n",
    "dataset.to_netcdf(output_file, format=\"NETCDF4\")\n",
    "print(f\"Chl-a data has been written to {output_file}.\")"
   ]
  },
  {
   "cell_type": "code",
   "execution_count": null,
   "id": "20543cf0-5892-4504-a712-622cbd5c4693",
   "metadata": {
    "tags": []
   },
   "outputs": [],
   "source": [
    "MOSAiC_Chla = xr.open_dataset(\"../data/MOSAiC_Chla_forLaurent_20220905.nc\")\n",
    "MOSAiC_Chla"
   ]
  },
  {
   "cell_type": "code",
   "execution_count": null,
   "id": "ed5cb305-44c9-4bd1-bc10-2c838c291978",
   "metadata": {
    "tags": []
   },
   "outputs": [],
   "source": [
    "MOSAiC_Chla.step.values"
   ]
  },
  {
   "cell_type": "code",
   "execution_count": null,
   "id": "f65f04e0-ef55-4e32-907f-22f84538708c",
   "metadata": {},
   "outputs": [],
   "source": [
    "MOSAiC_Chla.close()"
   ]
  },
  {
   "cell_type": "code",
   "execution_count": null,
   "id": "09b230c0-30fe-44b9-945a-bc098b392ba7",
   "metadata": {},
   "outputs": [],
   "source": []
  },
  {
   "cell_type": "code",
   "execution_count": null,
   "id": "890fa035-a3ee-49e5-8785-852b424560c8",
   "metadata": {},
   "outputs": [],
   "source": []
  }
 ],
 "metadata": {
  "kernelspec": {
   "display_name": "Python [conda env:py3_std]",
   "language": "python",
   "name": "conda-env-py3_std-py"
  },
  "language_info": {
   "codemirror_mode": {
    "name": "ipython",
    "version": 3
   },
   "file_extension": ".py",
   "mimetype": "text/x-python",
   "name": "python",
   "nbconvert_exporter": "python",
   "pygments_lexer": "ipython3",
   "version": "3.10.8"
  }
 },
 "nbformat": 4,
 "nbformat_minor": 5
}
