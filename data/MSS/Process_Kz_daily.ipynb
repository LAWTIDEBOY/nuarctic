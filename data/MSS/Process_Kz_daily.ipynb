{
 "cells": [
  {
   "cell_type": "code",
   "execution_count": 7,
   "id": "1dd43206",
   "metadata": {},
   "outputs": [],
   "source": [
    "from glob import glob as gg\n",
    "#\n",
    "import numpy as np\n",
    "from matplotlib import pyplot as plt\n",
    "from matplotlib import rc as rc\n",
    "#\n",
    "from netCDF4 import Dataset  \n",
    "#\n",
    "from datetime import datetime\n",
    "from datetime import date\n",
    "#\n",
    "import pandas as pd\n",
    "#\n",
    "import gsw"
   ]
  },
  {
   "cell_type": "code",
   "execution_count": 9,
   "id": "a1c83c7c",
   "metadata": {},
   "outputs": [
    {
     "name": "stdout",
     "output_type": "stream",
     "text": [
      "223\n"
     ]
    }
   ],
   "source": [
    "class mesh_data:\n",
    "    def __init__(self, filename):\n",
    "        self.read_vertical_mesh(filename)\n",
    "        \n",
    "    def read_vertical_mesh(self,filename):\n",
    "        ncid = Dataset(filename, \"r\", format=\"NETCDF4\")        \n",
    "        \n",
    "        # read dates \n",
    "        self.dates = ncid.variables['dates'][:]\n",
    "        print (len(self.dates))\n",
    "        # read vertical mesh (Kz is computed at each node of the FESOM mesh)\n",
    "        self.nlevels, self.zbar = ncid.variables['nlevels'][:], ncid.variables['zbar'][:]\n",
    "        ncid.close()\n",
    "\n",
    "#\n",
    "# read mesh information\n",
    "#\n",
    "path_mesh = '/home/fbirrien/NuArctic/nuarctic/REcoM1D/grid/'\n",
    "filename = path_mesh + 'REcoM1D_daily_mesh.nc'\n",
    "mesh = mesh_data(filename)"
   ]
  },
  {
   "cell_type": "code",
   "execution_count": 10,
   "id": "0d80298c",
   "metadata": {},
   "outputs": [],
   "source": [
    "class Kz_data:\n",
    "    def __init__(self, filename):\n",
    "        self.read_Kz_data(filename)\n",
    "        \n",
    "    def read_Kz_data(self,filename):\n",
    "        ncid = Dataset(filename, \"r\", format=\"NETCDF4\")        \n",
    "        \n",
    "        # read data: time, dates and Kz \n",
    "        self.dates = ncid.variables['stime'][:]-366\n",
    "        self.z =  -ncid.variables['depth'][:][:,0]\n",
    "        self.Kz =  ncid.variables['krho'][:]\n",
    "#\n",
    "# Read MSS Kz\n",
    "# rk: there are gaps in the data sets (for example no data when Polarstern left)\n",
    "path_data = '/home/fbirrien/NuArctic/nuarctic/Data_Processing/data/'\n",
    "filename=path_data+'MOSAiC_MSS_daily_avg_Kz.nc'\n",
    "Kz = Kz_data(filename)"
   ]
  },
  {
   "cell_type": "code",
   "execution_count": 11,
   "id": "0f1fd644",
   "metadata": {},
   "outputs": [
    {
     "data": {
      "image/png": "[encoded data removed]",
      "text/plain": [
       "<Figure size 432x288 with 1 Axes>"
      ]
     },
     "metadata": {
      "needs_background": "light"
     },
     "output_type": "display_data"
    }
   ],
   "source": [
    "class Kz_processing:\n",
    "    def __init__(self, mesh, data):\n",
    "        self.process_profile_data(mesh,data)\n",
    "    def process_profile_data(self, mesh, data):\n",
    "        \n",
    "        # keep data that are in the simulation time interval\n",
    "        ind1, ind2 = np.where(data.dates>=np.min(mesh.dates))[0], np.where(data.dates<=np.max(mesh.dates))[0]\n",
    "        indices = list(set(ind1) & set(ind2))\n",
    "        self.dates, self.z, K, self.nlevels = data.dates[indices], data.z, data.Kz[:,indices], mesh.nlevels\n",
    "        \n",
    "        # perform mask on array\n",
    "        Kz = np.zeros(K.shape)*np.nan\n",
    "        for i in range(len(self.dates)):\n",
    "            # initialization step\n",
    "            k, nl = K[:,i], int(mesh.nlevels[i])\n",
    "            # fill with value according to number of levels and bathymetry\n",
    "            Kz[0:nl,i] = k[0:nl]\n",
    "        \n",
    "        # store data\n",
    "        self.Kz=Kz\n",
    "        \n",
    "        fig,ax = plt.subplots(1)\n",
    "        ax.pcolor(self.dates, self.z, self.Kz)\n",
    "            \n",
    "#\n",
    "# process vertical Kz profiles so they are collocated with the mesh nodes\n",
    "#\n",
    "Kz_processed = Kz_processing(mesh,Kz)"
   ]
  },
  {
   "cell_type": "code",
   "execution_count": 15,
   "id": "712faab8",
   "metadata": {},
   "outputs": [
    {
     "data": {
      "text/plain": [
       "<__main__.Kz_Output at 0x7fd05c881840>"
      ]
     },
     "execution_count": 15,
     "metadata": {},
     "output_type": "execute_result"
    }
   ],
   "source": [
    "class Kz_Output:\n",
    "    def __init__(self, filename, data):\n",
    "        self.write_ocn_forcing(filename, data)\n",
    "    \n",
    "    def write_ocn_forcing(self,filename, data):\n",
    "        #------------------------------------------------------------------------\n",
    "        # write ITP salinity and temperature profile to netcdf\n",
    "        #------------------------------------------------------------------------\t\n",
    "    \n",
    "        # open file\n",
    "        ncid = Dataset(filename, \"w\", format=\"NETCDF4\")\n",
    "\n",
    "        # define dimension\n",
    "        nt, nlvl = len(data.dates), len(data.z)\n",
    "    \n",
    "        ncid.createDimension('time', nt)\n",
    "        ncid.createDimension('levels', nlvl)\n",
    "        dimt, dimlvl, dim = ('time'), ('levels'), ('levels','time') \n",
    "        \n",
    "        # create variable\n",
    "        dat = ncid.createVariable('dates', \"f8\", dimt)\n",
    "        Z = ncid.createVariable('z', \"f8\",dimlvl)\n",
    "        kz = ncid.createVariable('Kz', \"f8\",dim)\n",
    "        nlvl = ncid.createVariable('nlevels', \"f8\", dimt)\n",
    "\n",
    "        \n",
    "        # define units\n",
    "        dat.units, dat.description = 'days', 'days since '+ str(datetime.fromordinal(int(data.dates[0])))\n",
    "        Z.units, kz.units = 'm', 'm2/s2'\n",
    "        Z.long_name, kz.long_name = 'z', 'vertical diffusivity'\n",
    "        nlvl.long_name='nb of levels at nodes'\n",
    "        #fill variables\n",
    "        ncid['dates'][:], ncid['z'][:], ncid['Kz'][:], ncid['nlevels'][:]  = data.dates, data.z, data.Kz, data.nlevels\n",
    "   \n",
    "        # close file\n",
    "        ncid.close()\n",
    "#\n",
    "# write to data to netcdf\n",
    "path_data = '/home/fbirrien/NuArctic/nuarctic/Data_Processing/processed/'\n",
    "filename = path_data + 'MOSAiC_MSS_daily_Kz.nc'\n",
    "Kz_Output(filename, Kz_processed)\n"
   ]
  },
  {
   "cell_type": "code",
   "execution_count": null,
   "id": "c5667eb5",
   "metadata": {},
   "outputs": [],
   "source": []
  }
 ],
 "metadata": {
  "kernelspec": {
   "display_name": "Python 3 (ipykernel)",
   "language": "python",
   "name": "python3"
  },
  "language_info": {
   "codemirror_mode": {
    "name": "ipython",
    "version": 3
   },
   "file_extension": ".py",
   "mimetype": "text/x-python",
   "name": "python",
   "nbconvert_exporter": "python",
   "pygments_lexer": "ipython3",
   "version": "3.10.6"
  }
 },
 "nbformat": 4,
 "nbformat_minor": 5
}
