{
 "cells": [
  {
   "cell_type": "code",
   "execution_count": 1,
   "id": "1dd43206",
   "metadata": {},
   "outputs": [],
   "source": [
    "from glob import glob as gg\n",
    "#\n",
    "import numpy as np\n",
    "from matplotlib import pyplot as plt\n",
    "from matplotlib import rc as rc\n",
    "from matplotlib.dates import DateFormatter\n",
    "import matplotlib.dates as mdates\n",
    "#\n",
    "from netCDF4 import Dataset  \n",
    "#\n",
    "from datetime import datetime\n",
    "from datetime import date\n",
    "#\n",
    "import pandas as pd\n",
    "#\n",
    "import gsw"
   ]
  },
  {
   "cell_type": "code",
   "execution_count": 2,
   "id": "4f3c88e1",
   "metadata": {},
   "outputs": [],
   "source": [
    "#\n",
    "# parameters for the pre-processing step of daily Kz data sets\n",
    "#\n",
    "\n",
    "# data path\n",
    "path_data = '../../data/'\n",
    "\n",
    "# mesh infos: path and filename\n",
    "path_mesh = path_data + 'MESH/'\n",
    "filename_mesh = path_mesh + 'REcoM1D_daily_mesh.nc'\n",
    "\n",
    "# Kz data set info: path and input and ooutput file names\n",
    "path_MSS = path_data + 'MSS/'\n",
    "filename_MSS = path_MSS+'MOSAiC_MSS_daily_avg_Kz.nc'\n",
    "filename_output = path_MSS +  'MOSAiC_MSS_daily_Kz.nc'"
   ]
  },
  {
   "cell_type": "code",
   "execution_count": 3,
   "id": "a1c83c7c",
   "metadata": {},
   "outputs": [],
   "source": [
    "#\n",
    "# load mesh data (nodes for Kz)\n",
    "#\n",
    "class mesh_data:\n",
    "    def __init__(self, filename):\n",
    "        self.read_vertical_mesh(filename)\n",
    "        \n",
    "    def read_vertical_mesh(self,filename):\n",
    "        ncid = Dataset(filename, \"r\", format=\"NETCDF4\")        \n",
    "        \n",
    "        # read dates \n",
    "        self.dates = ncid.variables['dates'][:]\n",
    "        # read vertical mesh (Kz is computed at each node of the FESOM mesh)\n",
    "        self.nlevels, self.zbar = ncid.variables['nlevels'][:], ncid.variables['zbar'][:]\n",
    "        ncid.close()\n",
    "\n",
    "#\n",
    "# read mesh information\n",
    "#\n",
    "mesh = mesh_data(filename_mesh)"
   ]
  },
  {
   "cell_type": "code",
   "execution_count": 4,
   "id": "0d80298c",
   "metadata": {},
   "outputs": [],
   "source": [
    "class Kz_data:\n",
    "    def __init__(self, filename):\n",
    "        self.read_Kz_data(filename)\n",
    "        \n",
    "    def read_Kz_data(self,filename):\n",
    "        ncid = Dataset(filename, \"r\", format=\"NETCDF4\")        \n",
    "        \n",
    "        # read data: time, dates and Kz \n",
    "        self.dates = ncid.variables['stime'][:]-366\n",
    "        self.z =  -ncid.variables['depth'][:][:,0]\n",
    "        self.Kz =  ncid.variables['krho'][:]\n",
    "#\n",
    "# Read Kz data from MSS (Kiki)\n",
    "#\n",
    "Kz = Kz_data(filename_MSS)"
   ]
  },
  {
   "cell_type": "code",
   "execution_count": 5,
   "id": "0f1fd644",
   "metadata": {},
   "outputs": [],
   "source": [
    "# \n",
    "# process the Kz data set \n",
    "# the daily data set is cropped for the simulations interval and a mask is applied on active levels according to the along-track bathymetry\n",
    "#\n",
    "class Kz_processing:\n",
    "    def __init__(self, mesh, data):\n",
    "        self.process_profile_data(mesh,data)\n",
    "    def process_profile_data(self, mesh, data):\n",
    "        \n",
    "        # keep data that are in the simulation time interval\n",
    "        ind1, ind2 = np.where(data.dates>=np.min(mesh.dates))[0], np.where(data.dates<=np.max(mesh.dates))[0]\n",
    "        indices = list(set(ind1) & set(ind2))\n",
    "        self.dates, self.z, K, self.nlevels = data.dates[indices], data.z, data.Kz[:,indices], mesh.nlevels\n",
    "        \n",
    "        # perform mask on array\n",
    "        Kz = np.zeros(K.shape)*np.nan\n",
    "        for i in range(len(self.dates)):\n",
    "            # initialization step\n",
    "            k, nl = K[:,i], int(mesh.nlevels[i])\n",
    "            # fill with value according to number of levels and bathymetry\n",
    "            Kz[0:nl+1,i] = k[0:nl+1]\n",
    "        \n",
    "        # store data\n",
    "        self.Kz=Kz        \n",
    "#\n",
    "# process vertical Kz profiles so they are collocated with the mesh nodes\n",
    "#\n",
    "Kz_processed = Kz_processing(mesh,Kz)"
   ]
  },
  {
   "cell_type": "code",
   "execution_count": 6,
   "id": "9cdc7543",
   "metadata": {},
   "outputs": [
    {
     "data": {
      "image/png": "[encoded data removed]",
      "text/plain": [
       "<Figure size 1152x720 with 1 Axes>"
      ]
     },
     "metadata": {
      "needs_background": "light"
     },
     "output_type": "display_data"
    }
   ],
   "source": [
    "#\n",
    "# plot resulting 2D Kz field \n",
    "#\n",
    "\n",
    "def plot_variables_map(var, mesh):\n",
    "    fsz = (16,10)\n",
    "    dl = [-5000, 0]\n",
    "    lbsz, tcsz, mksz = 30, 20, 20\n",
    "    rc('xtick', labelsize=tcsz) , rc('ytick', labelsize=tcsz)\n",
    "    date_ref = datetime.strptime('1970-01-01','%Y-%m-%d').toordinal()\n",
    "    fig,ax = plt.subplots(1, figsize=fsz)\n",
    "\n",
    "\n",
    "    ax.pcolor(var.dates-date_ref, var.z, var.Kz)\n",
    "    for i,nlvl in enumerate(mesh.nlevels.astype(int)):\n",
    "        ax.plot_date(mesh.dates[i]-date_ref, mesh.zbar[nlvl],'or')\n",
    "        \n",
    "        \n",
    "    ax.set_ylim(dl), ax.set_ylabel('z(m)', fontsize=20)\n",
    "    \n",
    "    ax.xaxis.set_major_locator(mdates.WeekdayLocator(interval=4))\n",
    "    ax.xaxis.set_major_formatter(DateFormatter(\"%Y-%m\"))\n",
    "#\n",
    "plot_variables_map(Kz_processed,mesh)\n",
    "    "
   ]
  },
  {
   "cell_type": "code",
   "execution_count": 7,
   "id": "712faab8",
   "metadata": {},
   "outputs": [
    {
     "data": {
      "text/plain": [
       "<__main__.Kz_Output at 0x7f3245d96860>"
      ]
     },
     "execution_count": 7,
     "metadata": {},
     "output_type": "execute_result"
    }
   ],
   "source": [
    "#\n",
    "# write Kz to netcdf\n",
    "#\n",
    "class Kz_Output:\n",
    "    def __init__(self, filename, data):\n",
    "        self.write_ocn_forcing(filename, data)\n",
    "    \n",
    "    def write_ocn_forcing(self,filename, data):\n",
    "        #------------------------------------------------------------------------\n",
    "        # write ITP salinity and temperature profile to netcdf\n",
    "        #------------------------------------------------------------------------\t\n",
    "    \n",
    "        # open file\n",
    "        ncid = Dataset(filename, \"w\", format=\"NETCDF4\")\n",
    "\n",
    "        # define dimension\n",
    "        nt, nlvl = len(data.dates), len(data.z)\n",
    "    \n",
    "        ncid.createDimension('time', nt)\n",
    "        ncid.createDimension('levels', nlvl)\n",
    "        dimt, dimlvl, dim = ('time'), ('levels'), ('levels','time') \n",
    "        \n",
    "        # create variable\n",
    "        dat = ncid.createVariable('dates', \"f8\", dimt)\n",
    "        Z = ncid.createVariable('z', \"f8\",dimlvl)\n",
    "        kz = ncid.createVariable('Kz', \"f8\",dim)\n",
    "        nlvl = ncid.createVariable('nlevels', \"f8\", dimt)\n",
    "\n",
    "        \n",
    "        # define units\n",
    "        dat.units, dat.description = 'days', 'days since '+ str(datetime.fromordinal(int(data.dates[0])))\n",
    "        Z.units, kz.units = 'm', 'm2/s2'\n",
    "        Z.long_name, kz.long_name = 'z', 'vertical diffusivity'\n",
    "        nlvl.long_name='nb of levels at nodes'\n",
    "        #fill variables\n",
    "        ncid['dates'][:], ncid['z'][:], ncid['Kz'][:], ncid['nlevels'][:]  = data.dates, data.z, data.Kz, data.nlevels\n",
    "   \n",
    "        # close file\n",
    "        ncid.close()\n",
    "#\n",
    "# write output data to netcdf\n",
    "#\n",
    "Kz_Output(filename_output, Kz_processed)\n"
   ]
  },
  {
   "cell_type": "code",
   "execution_count": null,
   "id": "c5667eb5",
   "metadata": {},
   "outputs": [],
   "source": []
  }
 ],
 "metadata": {
  "kernelspec": {
   "display_name": "Python 3 (ipykernel)",
   "language": "python",
   "name": "python3"
  },
  "language_info": {
   "codemirror_mode": {
    "name": "ipython",
    "version": 3
   },
   "file_extension": ".py",
   "mimetype": "text/x-python",
   "name": "python",
   "nbconvert_exporter": "python",
   "pygments_lexer": "ipython3",
   "version": "3.10.6"
  }
 },
 "nbformat": 4,
 "nbformat_minor": 5
}
