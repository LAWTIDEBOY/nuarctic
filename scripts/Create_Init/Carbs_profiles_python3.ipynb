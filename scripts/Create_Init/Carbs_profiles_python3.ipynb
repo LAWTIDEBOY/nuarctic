{
 "cells": [
  {
   "cell_type": "code",
   "execution_count": 1,
   "metadata": {},
   "outputs": [],
   "source": [
    "#!jupyter nbconvert --to=python Carbs_profile_python3.ipynb"
   ]
  },
  {
   "cell_type": "code",
   "execution_count": null,
   "metadata": {},
   "outputs": [],
   "source": [
    "class Carbs_profile:   \n",
    "    '''\n",
    "    class Nut_depth(runname,resultpath,savepath,meshpath,ncfileAlk,ncfileDIC,ncfileDFe,first_year,last_year,\n",
    "                 savefig=False,regional=True)\n",
    "                 \n",
    "    c.f. Danilov et al. (2017):\n",
    "    \"in the vertical direction, the horizontal velocities and scalars are located at mid-levels\" \n",
    "                 \n",
    "    if regional = True, profiles will plotted for each main basins + Global Ocean. \n",
    "    Otherwise, just the Global Ocean.\n",
    "    '''\n",
    "    def __init__(self,runname,mesh,ncfileAlk,ncfileDIC):\n",
    "\n",
    "        self.runname = runname\n",
    "        self.mesh = mesh\n",
    "        self.ncfileAlk = ncfileAlk\n",
    "        self.ncfileDIC = ncfileDIC\n",
    "        \n",
    "        import matplotlib.pyplot as plt\n",
    "        import numpy as np\n",
    "        from netCDF4 import Dataset\n",
    "        from scipy.interpolate import griddata\n",
    "        import skill_metrics as sm\n",
    "        import cartopy.crs as ccrs\n",
    "        import pyfesom2 as pf\n",
    "        \n",
    "        from load_interp_GLODAP_python3 import GLODAPdata\n",
    "        \n",
    "        meshdiag = pf.get_meshdiag(mesh)\n",
    "        runid      =  self.runname\n",
    "        \n",
    "        unitsDIC = 'DIC [mmol m$^{-3}$]'\n",
    "        unitsAlk = 'Alk [mmol m$^{-3}$]'\n",
    "        \n",
    "        \n",
    "        # load data -------------------------------------------------------------------------------------\n",
    "        DICglodap_input = GLODAPdata(runid,mesh,ncfileDIC,'TCO2_mmol', get_overview=False)\n",
    "        Alkglodap_input = GLODAPdata(runid,mesh,ncfileAlk,'TAlk_mmol', get_overview=False)\n",
    "        \n",
    "        DICglodap = DICglodap_input.glodap_int\n",
    "        #DICglodap[DICfesom == 0] = 0\n",
    "\n",
    "        Alkglodap = Alkglodap_input.glodap_int\n",
    "        #Alkglodap[Alkfesom == 0] = 0\n",
    "        \n",
    "        # Load and derive profiles\n",
    "        nod_area = np.ma.masked_equal(meshdiag.nod_area.values, 0)\n",
    "        mask = pf.get_mask(mesh, \"Arctic_Basin\")\n",
    "\n",
    "        DICglodap_by_area = ((np.ma.masked_equal(DICglodap[mask,:],0) * nod_area[:-1,:].T[mask]).mean(axis=0))\n",
    "        DICglodap_weighted_Arctic = DICglodap_by_area/nod_area[:-1,:].T[mask].mean(axis=0)\n",
    "\n",
    "        Alkglodap_by_area = ((np.ma.masked_equal(Alkglodap[mask,:],0) * nod_area[:-1,:].T[mask]).mean(axis=0))\n",
    "        Alkglodap_weighted_Arctic = Alkglodap_by_area/nod_area[:-1,:].T[mask].mean(axis=0)\n",
    "            \n",
    "        self.Alk = Alkglodap_weighted_Arctic\n",
    "        self.DIC = DICglodap_weighted_Arctic\n",
    "        self.depth = DICglodap_input.layer_depths"
   ]
  }
 ],
 "metadata": {
  "kernelspec": {
   "display_name": "Python 3",
   "language": "python",
   "name": "python3"
  },
  "language_info": {
   "codemirror_mode": {
    "name": "ipython",
    "version": 3
   },
   "file_extension": ".py",
   "mimetype": "text/x-python",
   "name": "python",
   "nbconvert_exporter": "python",
   "pygments_lexer": "ipython3",
   "version": "3.7.7"
  }
 },
 "nbformat": 4,
 "nbformat_minor": 4
}
