{
 "cells": [
  {
   "cell_type": "code",
   "execution_count": 2,
   "id": "68fad56a",
   "metadata": {},
   "outputs": [],
   "source": [
    "from glob import glob as gg\n",
    "#\n",
    "import numpy as np\n",
    "from matplotlib import pyplot as plt\n",
    "from matplotlib import rc as rc\n",
    "#\n",
    "from netCDF4 import Dataset  \n",
    "#\n",
    "from datetime import datetime\n",
    "from datetime import date"
   ]
  },
  {
   "cell_type": "code",
   "execution_count": 3,
   "id": "24daab17",
   "metadata": {},
   "outputs": [],
   "source": [
    "#\n",
    "# load discretized mesh data\n",
    "#\n",
    "class Mesh:\n",
    "    def __init__(self):\n",
    "        self.read_mesh()\n",
    "\n",
    "    def read_mesh(self):\n",
    "        path = '/home/fbirrien/NuArctic/nuarctic/REcoM1D/grid/'\n",
    "        filename = path + 'REcoM1D_mesh.nc'\n",
    "        ncid = Dataset(filename, \"r\", format=\"NETCDF4\")\n",
    "        \n",
    "        # read dates\n",
    "        self.dates = ncid.variables['dates'][:]\n",
    "        \n",
    "        # read coordinates\n",
    "        self.longitude, self.latitude = ncid.variables['longitude'][:], ncid.variables['latitude'][:]\n",
    "        \n",
    "        # first date of simulation after spinup\n",
    "        ind1, ind2 = np.where(self.longitude==self.longitude[0])[0], np.where(self.latitude==self.latitude[0])[0]\n",
    "        index = list(set(ind1) & set(ind2))[-1]\n",
    "        self.start_date = np.floor(self.dates[index])\n",
    "        self.end_date = np.floor(self.dates[-1])\n",
    "        \n",
    "        # read depth and levels\n",
    "        self.zbar, self.Z, self.nlevels = ncid.variables['zbar'][:], ncid.variables['Z'][:], ncid.variables['nlevels'][:]\n",
    "        \n",
    "        ncid.close()\n",
    "#\n",
    "mesh = Mesh()"
   ]
  },
  {
   "cell_type": "code",
   "execution_count": 8,
   "id": "27c5712e",
   "metadata": {},
   "outputs": [],
   "source": [
    "class atm_forcing:\n",
    "    def __init__(self, filename, mesh):\n",
    "        self.read_atm_forcing(filename, mesh)\n",
    "        \n",
    "    def read_atm_forcing(self, filename, mesh):\n",
    "        # read wind\n",
    "        ncid = Dataset(filename, \"r\", format=\"NETCDF4\") \n",
    "        dates = ncid.variables['calendar_date'][:]\n",
    "        uatm, vatm = ncid.variables['uatm'][:], ncid.variables['vatm'][:]\n",
    "        ncid.close()\n",
    "        \n",
    "        # crop to simulation dates\n",
    "        ind1, ind2 = np.where(dates>=np.min(mesh.dates))[0], np.where(dates<=np.max(mesh.dates))[0]\n",
    "        indices = list(set(ind1) & set(ind2))\n",
    "        self.dates, self.uatm, self.vatm = dates[indices], uatm[indices], vatm[indices]\n",
    "        \n",
    "#\n",
    "# read atm forcing\n",
    "path = '/home/fbirrien/NuArctic/nuarctic/Data_Processing/data/'\n",
    "filename = path + 'MOSAiC_atm_forcing'\n",
    "        \n",
    "forcing = atm_forcing(filename,mesh)"
   ]
  },
  {
   "cell_type": "code",
   "execution_count": null,
   "id": "e68292c1",
   "metadata": {},
   "outputs": [],
   "source": []
  }
 ],
 "metadata": {
  "kernelspec": {
   "display_name": "Python 3 (ipykernel)",
   "language": "python",
   "name": "python3"
  },
  "language_info": {
   "codemirror_mode": {
    "name": "ipython",
    "version": 3
   },
   "file_extension": ".py",
   "mimetype": "text/x-python",
   "name": "python",
   "nbconvert_exporter": "python",
   "pygments_lexer": "ipython3",
   "version": "3.10.6"
  }
 },
 "nbformat": 4,
 "nbformat_minor": 5
}
