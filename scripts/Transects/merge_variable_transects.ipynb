{
 "cells": [
  {
   "cell_type": "code",
   "execution_count": 1,
   "id": "possible-killing",
   "metadata": {},
   "outputs": [],
   "source": [
    "\"\"\"\n",
    "scripts to merge REcoM-related variables (from FESOM outputs) chronologically and for multiple years \n",
    "\n",
    "\"\"\"\n",
    "#\n",
    "from glob import glob as gg\n",
    "#\n",
    "import xarray as xr\n",
    "#\n",
    "from netCDF4 import Dataset \n",
    "#"
   ]
  },
  {
   "cell_type": "code",
   "execution_count": 2,
   "id": "objective-station",
   "metadata": {},
   "outputs": [],
   "source": [
    "# path to transect data\n",
    "path_FESOM='/work/ollie/fbirrien/NuArctic/FESOM_Outputs/'\n",
    "path_output = path_FESOM + 'Transects/'\n",
    "\n",
    "# variable of interest\n",
    "#var_name = ['a_ice', 'Alk', 'benC', 'benN', 'benSi', 'pCO2','DetCalc', 'DetC', 'DetN', 'DetSi', 'DFe' , 'DiaC', 'DiaChl', 'DiaN', 'DiaSi', 'DIC', 'DIN', 'DOC' , 'DON' , 'HetC', 'HetN', 'idetz2calc', 'idetz2c', 'idetz2n', 'idetz2si', 'Kv', 'O2', 'PAR', 'pCO2s', 'PhyCalc', 'PhyC', 'PhyChl', 'PhyN', 'runoff', 'salt', 'temp', 'u', 'uice', 'v','vice','w', 'Zoo2C', 'Zoo2N']\n",
    "var_name = ['a_ice', 'temp']"
   ]
  },
  {
   "cell_type": "code",
   "execution_count": null,
   "id": "phantom-overhead",
   "metadata": {},
   "outputs": [],
   "source": [
    "# merge dataset for the same variable but for different years\n",
    "for vname in var_name:\n",
    "  vlist = sorted(gg(path_output + vname + '*'))\n",
    "  # load files corresponding to a selected variables for the different output years\n",
    "  for i,filename in enumerate(vlist):\n",
    "    dataset = xr.open_mfdataset(filename, combine=\"by_coords\")\n",
    "    # merge data sets\n",
    "    array=dataset if i<1 else xr.merge([array, dataset])\n",
    "\n",
    "  # write merged (year) output to file\n",
    "  filename_output=vlist[0].replace('.' + vlist[0].split('.')[-2], '')\n",
    "  array.to_netcdf(filename_output)"
   ]
  }
 ],
 "metadata": {
  "kernelspec": {
   "display_name": "Python 3 (ipykernel)",
   "language": "python",
   "name": "python3"
  },
  "language_info": {
   "codemirror_mode": {
    "name": "ipython",
    "version": 3
   },
   "file_extension": ".py",
   "mimetype": "text/x-python",
   "name": "python",
   "nbconvert_exporter": "python",
   "pygments_lexer": "ipython3",
   "version": "3.9.7"
  }
 },
 "nbformat": 4,
 "nbformat_minor": 5
}
